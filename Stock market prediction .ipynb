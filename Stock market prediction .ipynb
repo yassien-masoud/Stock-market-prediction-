{
 "cells": [
  {
   "cell_type": "code",
   "execution_count": 52,
   "metadata": {},
   "outputs": [],
   "source": [
    "import pandas as pd\n",
    "from pandas_datareader.data import DataReader\n",
    "from datetime import datetime\n",
    "import matplotlib.pyplot as plt"
   ]
  },
  {
   "cell_type": "code",
   "execution_count": 53,
   "metadata": {},
   "outputs": [],
   "source": [
    "tech_list=['AAPL', 'GOOG', 'MSFT', 'AMZN']\n",
    "end= datetime.now()\n",
    "start = datetime(end.year - 10, end.month, end.day)\n",
    "\n",
    "for i in tech_list:\n",
    "    \n",
    "    globals()[i]=DataReader(i, 'yahoo', start, end) "
   ]
  },
  {
   "cell_type": "code",
   "execution_count": 54,
   "metadata": {},
   "outputs": [
    {
     "data": {
      "text/html": [
       "<div>\n",
       "<style scoped>\n",
       "    .dataframe tbody tr th:only-of-type {\n",
       "        vertical-align: middle;\n",
       "    }\n",
       "\n",
       "    .dataframe tbody tr th {\n",
       "        vertical-align: top;\n",
       "    }\n",
       "\n",
       "    .dataframe thead th {\n",
       "        text-align: right;\n",
       "    }\n",
       "</style>\n",
       "<table border=\"1\" class=\"dataframe\">\n",
       "  <thead>\n",
       "    <tr style=\"text-align: right;\">\n",
       "      <th></th>\n",
       "      <th>High</th>\n",
       "      <th>Low</th>\n",
       "      <th>Open</th>\n",
       "      <th>Close</th>\n",
       "      <th>Volume</th>\n",
       "      <th>Adj Close</th>\n",
       "      <th>company_name</th>\n",
       "    </tr>\n",
       "    <tr>\n",
       "      <th>Date</th>\n",
       "      <th></th>\n",
       "      <th></th>\n",
       "      <th></th>\n",
       "      <th></th>\n",
       "      <th></th>\n",
       "      <th></th>\n",
       "      <th></th>\n",
       "    </tr>\n",
       "  </thead>\n",
       "  <tbody>\n",
       "    <tr>\n",
       "      <th>2011-03-28</th>\n",
       "      <td>12.654286</td>\n",
       "      <td>12.515714</td>\n",
       "      <td>12.612500</td>\n",
       "      <td>12.515714</td>\n",
       "      <td>309355200.0</td>\n",
       "      <td>10.780579</td>\n",
       "      <td>APPLE</td>\n",
       "    </tr>\n",
       "    <tr>\n",
       "      <th>2011-03-29</th>\n",
       "      <td>12.534286</td>\n",
       "      <td>12.359286</td>\n",
       "      <td>12.416429</td>\n",
       "      <td>12.534286</td>\n",
       "      <td>352900800.0</td>\n",
       "      <td>10.796576</td>\n",
       "      <td>APPLE</td>\n",
       "    </tr>\n",
       "    <tr>\n",
       "      <th>2011-03-30</th>\n",
       "      <td>12.531429</td>\n",
       "      <td>12.408571</td>\n",
       "      <td>12.522857</td>\n",
       "      <td>12.451071</td>\n",
       "      <td>329406000.0</td>\n",
       "      <td>10.724896</td>\n",
       "      <td>APPLE</td>\n",
       "    </tr>\n",
       "    <tr>\n",
       "      <th>2011-03-31</th>\n",
       "      <td>12.492857</td>\n",
       "      <td>12.359286</td>\n",
       "      <td>12.370000</td>\n",
       "      <td>12.446786</td>\n",
       "      <td>274019200.0</td>\n",
       "      <td>10.721204</td>\n",
       "      <td>APPLE</td>\n",
       "    </tr>\n",
       "    <tr>\n",
       "      <th>2011-04-01</th>\n",
       "      <td>12.556786</td>\n",
       "      <td>12.260714</td>\n",
       "      <td>12.539643</td>\n",
       "      <td>12.305714</td>\n",
       "      <td>418661600.0</td>\n",
       "      <td>10.599690</td>\n",
       "      <td>APPLE</td>\n",
       "    </tr>\n",
       "    <tr>\n",
       "      <th>...</th>\n",
       "      <td>...</td>\n",
       "      <td>...</td>\n",
       "      <td>...</td>\n",
       "      <td>...</td>\n",
       "      <td>...</td>\n",
       "      <td>...</td>\n",
       "      <td>...</td>\n",
       "    </tr>\n",
       "    <tr>\n",
       "      <th>2021-03-19</th>\n",
       "      <td>3077.290039</td>\n",
       "      <td>3016.629883</td>\n",
       "      <td>3029.229980</td>\n",
       "      <td>3074.959961</td>\n",
       "      <td>4616400.0</td>\n",
       "      <td>3074.959961</td>\n",
       "      <td>AMAZON</td>\n",
       "    </tr>\n",
       "    <tr>\n",
       "      <th>2021-03-22</th>\n",
       "      <td>3126.580078</td>\n",
       "      <td>3060.050049</td>\n",
       "      <td>3067.850098</td>\n",
       "      <td>3110.870117</td>\n",
       "      <td>2902200.0</td>\n",
       "      <td>3110.870117</td>\n",
       "      <td>AMAZON</td>\n",
       "    </tr>\n",
       "    <tr>\n",
       "      <th>2021-03-23</th>\n",
       "      <td>3182.000000</td>\n",
       "      <td>3120.850098</td>\n",
       "      <td>3127.000000</td>\n",
       "      <td>3137.500000</td>\n",
       "      <td>3817300.0</td>\n",
       "      <td>3137.500000</td>\n",
       "      <td>AMAZON</td>\n",
       "    </tr>\n",
       "    <tr>\n",
       "      <th>2021-03-24</th>\n",
       "      <td>3160.310059</td>\n",
       "      <td>3085.149902</td>\n",
       "      <td>3151.040039</td>\n",
       "      <td>3087.070068</td>\n",
       "      <td>2959000.0</td>\n",
       "      <td>3087.070068</td>\n",
       "      <td>AMAZON</td>\n",
       "    </tr>\n",
       "    <tr>\n",
       "      <th>2021-03-25</th>\n",
       "      <td>3109.780029</td>\n",
       "      <td>3037.139893</td>\n",
       "      <td>3072.989990</td>\n",
       "      <td>3046.260010</td>\n",
       "      <td>3557300.0</td>\n",
       "      <td>3046.260010</td>\n",
       "      <td>AMAZON</td>\n",
       "    </tr>\n",
       "  </tbody>\n",
       "</table>\n",
       "<p>10064 rows × 7 columns</p>\n",
       "</div>"
      ],
      "text/plain": [
       "                   High          Low         Open        Close       Volume  \\\n",
       "Date                                                                          \n",
       "2011-03-28    12.654286    12.515714    12.612500    12.515714  309355200.0   \n",
       "2011-03-29    12.534286    12.359286    12.416429    12.534286  352900800.0   \n",
       "2011-03-30    12.531429    12.408571    12.522857    12.451071  329406000.0   \n",
       "2011-03-31    12.492857    12.359286    12.370000    12.446786  274019200.0   \n",
       "2011-04-01    12.556786    12.260714    12.539643    12.305714  418661600.0   \n",
       "...                 ...          ...          ...          ...          ...   \n",
       "2021-03-19  3077.290039  3016.629883  3029.229980  3074.959961    4616400.0   \n",
       "2021-03-22  3126.580078  3060.050049  3067.850098  3110.870117    2902200.0   \n",
       "2021-03-23  3182.000000  3120.850098  3127.000000  3137.500000    3817300.0   \n",
       "2021-03-24  3160.310059  3085.149902  3151.040039  3087.070068    2959000.0   \n",
       "2021-03-25  3109.780029  3037.139893  3072.989990  3046.260010    3557300.0   \n",
       "\n",
       "              Adj Close company_name  \n",
       "Date                                  \n",
       "2011-03-28    10.780579        APPLE  \n",
       "2011-03-29    10.796576        APPLE  \n",
       "2011-03-30    10.724896        APPLE  \n",
       "2011-03-31    10.721204        APPLE  \n",
       "2011-04-01    10.599690        APPLE  \n",
       "...                 ...          ...  \n",
       "2021-03-19  3074.959961       AMAZON  \n",
       "2021-03-22  3110.870117       AMAZON  \n",
       "2021-03-23  3137.500000       AMAZON  \n",
       "2021-03-24  3087.070068       AMAZON  \n",
       "2021-03-25  3046.260010       AMAZON  \n",
       "\n",
       "[10064 rows x 7 columns]"
      ]
     },
     "execution_count": 54,
     "metadata": {},
     "output_type": "execute_result"
    }
   ],
   "source": [
    "company_list = [AAPL, GOOG, MSFT, AMZN]\n",
    "company_name = [\"APPLE\", \"GOOGLE\", \"MICROSOFT\", \"AMAZON\"]\n",
    "\n",
    "for company, com_name in zip(company_list, company_name):\n",
    "    company[\"company_name\"] = com_name\n",
    "    \n",
    "df = pd.concat(company_list, axis=0)\n",
    "df\n"
   ]
  },
  {
   "cell_type": "code",
   "execution_count": 55,
   "metadata": {},
   "outputs": [
    {
     "data": {
      "image/png": "[encoded data removed]",
      "text/plain": [
       "<Figure size 864x576 with 4 Axes>"
      ]
     },
     "metadata": {
      "needs_background": "light"
     },
     "output_type": "display_data"
    }
   ],
   "source": [
    "plt.figure(figsize=(12, 8))\n",
    "plt.subplots_adjust(top=1.25, bottom=1.2)\n",
    "\n",
    "for i, company in enumerate(company_list, 1):\n",
    "    plt.subplot(2, 2, i)\n",
    "    company['Adj Close'].plot()\n",
    "    plt.ylabel('Adj Close')\n",
    "    plt.xlabel(None)\n",
    "    plt.title(f\"{tech_list[i - 1]}\")"
   ]
  },
  {
   "cell_type": "code",
   "execution_count": 58,
   "metadata": {},
   "outputs": [
    {
     "data": {
      "text/plain": [
       "<AxesSubplot:xlabel='Symbols', ylabel='Symbols'>"
      ]
     },
     "execution_count": 58,
     "metadata": {},
     "output_type": "execute_result"
    },
    {
     "data": {
      "image/png": "[encoded data removed]",
      "text/plain": [
       "<Figure size 432x288 with 2 Axes>"
      ]
     },
     "metadata": {
      "needs_background": "light"
     },
     "output_type": "display_data"
    }
   ],
   "source": [
    "# correlation between [\"APPLE\", \"GOOGLE\", \"MICROSOFT\", \"AMAZON\"]\n",
    "sns.heatmap(closing_data.corr(), annot=True)"
   ]
  },
  {
   "cell_type": "markdown",
   "metadata": {},
   "source": [
    "### Apple Stock market prediction "
   ]
  },
  {
   "cell_type": "code",
   "execution_count": 59,
   "metadata": {},
   "outputs": [],
   "source": [
    "data=DataReader('AAPL','yahoo', start,end)"
   ]
  },
  {
   "cell_type": "code",
   "execution_count": 60,
   "metadata": {},
   "outputs": [
    {
     "data": {
      "text/html": [
       "<div>\n",
       "<style scoped>\n",
       "    .dataframe tbody tr th:only-of-type {\n",
       "        vertical-align: middle;\n",
       "    }\n",
       "\n",
       "    .dataframe tbody tr th {\n",
       "        vertical-align: top;\n",
       "    }\n",
       "\n",
       "    .dataframe thead th {\n",
       "        text-align: right;\n",
       "    }\n",
       "</style>\n",
       "<table border=\"1\" class=\"dataframe\">\n",
       "  <thead>\n",
       "    <tr style=\"text-align: right;\">\n",
       "      <th></th>\n",
       "      <th>Close</th>\n",
       "    </tr>\n",
       "    <tr>\n",
       "      <th>Date</th>\n",
       "      <th></th>\n",
       "    </tr>\n",
       "  </thead>\n",
       "  <tbody>\n",
       "    <tr>\n",
       "      <th>2011-03-28</th>\n",
       "      <td>12.515714</td>\n",
       "    </tr>\n",
       "    <tr>\n",
       "      <th>2011-03-29</th>\n",
       "      <td>12.534286</td>\n",
       "    </tr>\n",
       "    <tr>\n",
       "      <th>2011-03-30</th>\n",
       "      <td>12.451071</td>\n",
       "    </tr>\n",
       "    <tr>\n",
       "      <th>2011-03-31</th>\n",
       "      <td>12.446786</td>\n",
       "    </tr>\n",
       "    <tr>\n",
       "      <th>2011-04-01</th>\n",
       "      <td>12.305714</td>\n",
       "    </tr>\n",
       "    <tr>\n",
       "      <th>...</th>\n",
       "      <td>...</td>\n",
       "    </tr>\n",
       "    <tr>\n",
       "      <th>2021-03-19</th>\n",
       "      <td>119.989998</td>\n",
       "    </tr>\n",
       "    <tr>\n",
       "      <th>2021-03-22</th>\n",
       "      <td>123.389999</td>\n",
       "    </tr>\n",
       "    <tr>\n",
       "      <th>2021-03-23</th>\n",
       "      <td>122.540001</td>\n",
       "    </tr>\n",
       "    <tr>\n",
       "      <th>2021-03-24</th>\n",
       "      <td>120.089996</td>\n",
       "    </tr>\n",
       "    <tr>\n",
       "      <th>2021-03-25</th>\n",
       "      <td>120.589996</td>\n",
       "    </tr>\n",
       "  </tbody>\n",
       "</table>\n",
       "<p>2516 rows × 1 columns</p>\n",
       "</div>"
      ],
      "text/plain": [
       "                 Close\n",
       "Date                  \n",
       "2011-03-28   12.515714\n",
       "2011-03-29   12.534286\n",
       "2011-03-30   12.451071\n",
       "2011-03-31   12.446786\n",
       "2011-04-01   12.305714\n",
       "...                ...\n",
       "2021-03-19  119.989998\n",
       "2021-03-22  123.389999\n",
       "2021-03-23  122.540001\n",
       "2021-03-24  120.089996\n",
       "2021-03-25  120.589996\n",
       "\n",
       "[2516 rows x 1 columns]"
      ]
     },
     "execution_count": 60,
     "metadata": {},
     "output_type": "execute_result"
    }
   ],
   "source": [
    "data=data[['Close']]\n",
    "data"
   ]
  },
  {
   "cell_type": "code",
   "execution_count": 61,
   "metadata": {},
   "outputs": [
    {
     "name": "stdout",
     "output_type": "stream",
     "text": [
      "1703\n",
      "813\n"
     ]
    }
   ],
   "source": [
    "#split data to train and test\n",
    "train_data=data[:'2017']['Close'].values\n",
    "test_data=data['2018':]['Close'].values\n",
    "print(len(train_data))\n",
    "print(len(test_data))"
   ]
  },
  {
   "cell_type": "code",
   "execution_count": 62,
   "metadata": {},
   "outputs": [
    {
     "data": {
      "text/plain": [
       "12.534285545349121"
      ]
     },
     "execution_count": 62,
     "metadata": {},
     "output_type": "execute_result"
    }
   ],
   "source": [
    "train_data[1]"
   ]
  },
  {
   "cell_type": "code",
   "execution_count": 63,
   "metadata": {},
   "outputs": [
    {
     "data": {
      "text/plain": [
       "array([12.53428555, 12.45107079, 12.44678593, ..., 42.65000153,\n",
       "       42.77000046, 42.30749893])"
      ]
     },
     "execution_count": 63,
     "metadata": {},
     "output_type": "execute_result"
    }
   ],
   "source": [
    "train_data[1::1]"
   ]
  },
  {
   "cell_type": "code",
   "execution_count": 64,
   "metadata": {},
   "outputs": [
    {
     "data": {
      "text/plain": [
       "((1703,), (813,))"
      ]
     },
     "execution_count": 64,
     "metadata": {},
     "output_type": "execute_result"
    }
   ],
   "source": [
    "train_data.shape, test_data.shape"
   ]
  },
  {
   "cell_type": "code",
   "execution_count": 65,
   "metadata": {},
   "outputs": [],
   "source": [
    "train_data=train_data.reshape(len(train_data),1)  \n",
    "test_data=test_data.reshape(len(test_data),1)"
   ]
  },
  {
   "cell_type": "code",
   "execution_count": 66,
   "metadata": {},
   "outputs": [
    {
     "data": {
      "text/plain": [
       "((1703, 1), (813, 1))"
      ]
     },
     "execution_count": 66,
     "metadata": {},
     "output_type": "execute_result"
    }
   ],
   "source": [
    "train_data.shape, test_data.shape"
   ]
  },
  {
   "cell_type": "code",
   "execution_count": 67,
   "metadata": {},
   "outputs": [
    {
     "data": {
      "text/plain": [
       "(1703, 813)"
      ]
     },
     "execution_count": 67,
     "metadata": {},
     "output_type": "execute_result"
    }
   ],
   "source": [
    "from sklearn.preprocessing import MinMaxScaler\n",
    "\n",
    "# scale train data\n",
    "scale_data=MinMaxScaler()\n",
    "\n",
    "train_scaled=scale_data.fit_transform(train_data)\n",
    "\n",
    "# scale test data\n",
    "test_scaled=scale_data.fit_transform(test_data)\n",
    "len(train_scaled), len(test_scaled)"
   ]
  },
  {
   "cell_type": "code",
   "execution_count": 68,
   "metadata": {},
   "outputs": [],
   "source": [
    "# split the train_data and test_data into( train_x, train_y, test_x, test_y)\n",
    "train_x=[]\n",
    "train_y=[]\n",
    "test_x=[]\n",
    "test_y=[]\n",
    "\n",
    "for i in range(60,len(train_scaled)):\n",
    "    train_x.append(train_scaled[i-30:i,0])\n",
    "    train_y.append(train_scaled[i,0])\n",
    "    \n",
    "for j in range(60, len(test_scaled)):\n",
    "    test_x.append(test_scaled[j-30:j,0])\n",
    "    test_y.append(test_scaled[j,0])\n",
    "    "
   ]
  },
  {
   "cell_type": "code",
   "execution_count": 69,
   "metadata": {},
   "outputs": [],
   "source": [
    "# convert train_x, train_y to arrays\n",
    "train_x, train_y = np.array(train_x), np.array(train_y)\n",
    "\n",
    "# convert test_x, test_y to arrays\n",
    "test_x, test_y=np.array(test_x), np.array(test_y)"
   ]
  },
  {
   "cell_type": "code",
   "execution_count": 70,
   "metadata": {},
   "outputs": [
    {
     "data": {
      "text/plain": [
       "((1643, 30), (1643,), (753, 30), (753,))"
      ]
     },
     "execution_count": 70,
     "metadata": {},
     "output_type": "execute_result"
    }
   ],
   "source": [
    "train_x.shape, train_y.shape, test_x.shape, test_y.shape"
   ]
  },
  {
   "cell_type": "code",
   "execution_count": 71,
   "metadata": {},
   "outputs": [
    {
     "data": {
      "text/plain": [
       "((1643, 30, 1), (753, 30, 1))"
      ]
     },
     "execution_count": 71,
     "metadata": {},
     "output_type": "execute_result"
    }
   ],
   "source": [
    "# reshape the train_x\n",
    "train_x=train_x.reshape(train_x.shape[0],train_x.shape[1],1)\n",
    "\n",
    "#reshape the test_x\n",
    "test_x=test_x.reshape(test_x.shape[0], test_x.shape[1],1)\n",
    "\n",
    "train_x.shape, test_x.shape"
   ]
  },
  {
   "cell_type": "markdown",
   "metadata": {},
   "source": [
    "## Predication using LSTM Model"
   ]
  },
  {
   "cell_type": "code",
   "execution_count": 72,
   "metadata": {},
   "outputs": [],
   "source": [
    "from keras.models import Sequential\n",
    "from keras.layers import Dense,Dropout,LSTM,GRU\n",
    "\n",
    "# Built LSTM model\n",
    "model=Sequential([\n",
    "    LSTM(128,return_sequences=True, input_shape=(train_x.shape[1],1)),\n",
    "    LSTM(64, return_sequences=False),\n",
    "    Dense(1) \n",
    "])\n",
    "\n",
    "model.compile(optimizer='adam', loss='mse')"
   ]
  },
  {
   "cell_type": "code",
   "execution_count": 73,
   "metadata": {},
   "outputs": [
    {
     "name": "stdout",
     "output_type": "stream",
     "text": [
      "Model: \"sequential_1\"\n",
      "_________________________________________________________________\n",
      "Layer (type)                 Output Shape              Param #   \n",
      "=================================================================\n",
      "lstm_2 (LSTM)                (None, 30, 128)           66560     \n",
      "_________________________________________________________________\n",
      "lstm_3 (LSTM)                (None, 64)                49408     \n",
      "_________________________________________________________________\n",
      "dense_1 (Dense)              (None, 1)                 65        \n",
      "=================================================================\n",
      "Total params: 116,033\n",
      "Trainable params: 116,033\n",
      "Non-trainable params: 0\n",
      "_________________________________________________________________\n"
     ]
    }
   ],
   "source": [
    "model.summary()"
   ]
  },
  {
   "cell_type": "code",
   "execution_count": 74,
   "metadata": {},
   "outputs": [
    {
     "name": "stdout",
     "output_type": "stream",
     "text": [
      "Epoch 1/5\n",
      "52/52 [==============================] - 4s 23ms/step - loss: 0.0460\n",
      "Epoch 2/5\n",
      "52/52 [==============================] - 1s 21ms/step - loss: 7.9708e-04\n",
      "Epoch 3/5\n",
      "52/52 [==============================] - 1s 21ms/step - loss: 6.4248e-04\n",
      "Epoch 4/5\n",
      "52/52 [==============================] - 1s 21ms/step - loss: 6.1907e-04\n",
      "Epoch 5/5\n",
      "52/52 [==============================] - 1s 21ms/step - loss: 6.7765e-04\n"
     ]
    }
   ],
   "source": [
    "# fit the model\n",
    "ml=model.fit(train_x, train_y, epochs=5)"
   ]
  },
  {
   "cell_type": "code",
   "execution_count": 75,
   "metadata": {
    "scrolled": false
   },
   "outputs": [],
   "source": [
    "# prediction model\n",
    "prediction=model.predict(test_x)"
   ]
  },
  {
   "cell_type": "code",
   "execution_count": 76,
   "metadata": {},
   "outputs": [
    {
     "data": {
      "text/plain": [
       "0.38714112614367385"
      ]
     },
     "execution_count": 76,
     "metadata": {},
     "output_type": "execute_result"
    }
   ],
   "source": [
    "# Get the root mean squared error (RMSE)\n",
    "rmse=np.sqrt(np.mean(((prediction - test_y) ** 2)))\n",
    "rmse"
   ]
  },
  {
   "cell_type": "code",
   "execution_count": 77,
   "metadata": {},
   "outputs": [],
   "source": [
    "def plot_predictions(test,preds):\n",
    "    plt.plot(preds,label='Predicted')\n",
    "    plt.plot(test,label='Test')\n",
    "    plt.legend()\n",
    "    plt.show()"
   ]
  },
  {
   "cell_type": "code",
   "execution_count": 78,
   "metadata": {},
   "outputs": [
    {
     "data": {
      "image/png": "[encoded data removed]",
      "text/plain": [
       "<Figure size 432x288 with 1 Axes>"
      ]
     },
     "metadata": {
      "needs_background": "light"
     },
     "output_type": "display_data"
    }
   ],
   "source": [
    "predicted_data = model.predict(test_x)\n",
    "plot_predictions(test_y ,predicted_data.reshape(-1))"
   ]
  },
  {
   "cell_type": "markdown",
   "metadata": {},
   "source": [
    "## Liner Reggresion"
   ]
  },
  {
   "cell_type": "code",
   "execution_count": 79,
   "metadata": {},
   "outputs": [
    {
     "data": {
      "text/plain": [
       "LinearRegression()"
      ]
     },
     "execution_count": 79,
     "metadata": {},
     "output_type": "execute_result"
    }
   ],
   "source": [
    "from sklearn.linear_model import LinearRegression \n",
    "def changeshape(x):\n",
    "    return x.reshape(x.shape[0],x.shape[1])\n",
    "lin_req=LinearRegression()\n",
    "lin_req.fit(changeshape(train_x), train_y)"
   ]
  },
  {
   "cell_type": "code",
   "execution_count": 80,
   "metadata": {},
   "outputs": [
    {
     "data": {
      "text/plain": [
       "0.9962928641303669"
      ]
     },
     "execution_count": 80,
     "metadata": {},
     "output_type": "execute_result"
    }
   ],
   "source": [
    "lin_req.score(changeshape(test_x), test_y)"
   ]
  },
  {
   "cell_type": "code",
   "execution_count": 81,
   "metadata": {},
   "outputs": [
    {
     "data": {
      "text/plain": [
       "array([ 5.70708706e-02,  6.09020666e-02,  5.76745309e-02,  6.12486979e-02,\n",
       "        6.92562438e-02,  7.08269913e-02,  6.25956387e-02,  6.61659841e-02,\n",
       "        7.05837820e-02,  7.01707206e-02,  7.55646087e-02,  7.68224563e-02,\n",
       "        7.75562878e-02,  8.47943162e-02,  8.27574911e-02,  7.03115829e-02,\n",
       "        5.71229072e-02,  5.63972017e-02,  4.84325673e-02,  4.93670331e-02,\n",
       "        5.29578153e-02,  4.87349406e-02,  5.39746545e-02,  6.46555607e-02,\n",
       "        7.94029783e-02,  8.05954200e-02,  9.86057176e-02,  1.01314701e-01,\n",
       "        1.01620263e-01,  1.04405934e-01,  1.12359487e-01,  1.07657056e-01,\n",
       "        1.08142801e-01,  1.02608220e-01,  1.05897491e-01,  1.04729130e-01,\n",
       "        1.03846715e-01,  1.07593130e-01,  1.05923657e-01,  1.08729732e-01,\n",
       "        1.07852186e-01,  1.08625631e-01,  1.09273249e-01,  1.07063796e-01,\n",
       "        1.03745405e-01,  1.12685797e-01,  1.15999183e-01,  1.18729631e-01,\n",
       "        1.20278446e-01,  1.20059652e-01,  1.14626335e-01,  1.14133649e-01,\n",
       "        1.16778461e-01,  1.13698778e-01,  1.13649595e-01,  1.08665846e-01,\n",
       "        1.08627920e-01,  1.02136544e-01,  1.03698356e-01,  1.01488305e-01,\n",
       "        1.00314987e-01,  9.34614945e-02,  9.90503677e-02,  9.80152044e-02,\n",
       "        1.02026364e-01,  1.00494852e-01,  1.04815554e-01,  9.71767220e-02,\n",
       "        1.01063462e-01,  1.06378022e-01,  1.13055235e-01,  1.12796055e-01,\n",
       "        1.06395415e-01,  1.13468525e-01,  1.15110611e-01,  1.13376093e-01,\n",
       "        1.14960607e-01,  1.13360319e-01,  1.16653342e-01,  1.15216890e-01,\n",
       "        1.14069966e-01,  1.20093405e-01,  1.24248666e-01,  1.21039486e-01,\n",
       "        1.13708790e-01,  1.11920979e-01,  1.12823367e-01,  1.39322252e-01,\n",
       "        1.52363067e-01,  1.53038693e-01,  1.55453784e-01,  1.51385807e-01,\n",
       "        1.51375988e-01,  1.56740101e-01,  1.51636559e-01,  1.56327400e-01,\n",
       "        1.58714176e-01,  1.56903848e-01,  1.65764955e-01,  1.76274246e-01,\n",
       "        1.71393420e-01,  1.71030410e-01,  1.69709798e-01,  1.70534199e-01,\n",
       "        1.72919342e-01,  1.77896205e-01,  1.82144915e-01,  1.89349511e-01,\n",
       "        1.91324170e-01,  1.97387690e-01,  2.01341629e-01,  1.97635037e-01,\n",
       "        1.89184919e-01,  1.84213385e-01,  1.77068832e-01,  1.91213129e-01,\n",
       "        1.83539209e-01,  1.96453554e-01,  1.91076676e-01,  1.75127499e-01,\n",
       "        1.77195440e-01,  1.78983257e-01,  1.81287891e-01,  1.77005920e-01,\n",
       "        1.83202408e-01,  1.86131920e-01,  1.82423787e-01,  1.92105632e-01,\n",
       "        1.94970367e-01,  1.97851307e-01,  2.03441384e-01,  2.07739842e-01,\n",
       "        1.98640148e-01,  1.92735989e-01,  1.90533538e-01,  1.97628461e-01,\n",
       "        1.72107865e-01,  1.68526209e-01,  1.86715444e-01,  1.74512457e-01,\n",
       "        1.88598819e-01,  1.83842497e-01,  1.70756342e-01,  1.82834374e-01,\n",
       "        1.83255287e-01,  1.84737131e-01,  1.72030598e-01,  1.82451878e-01,\n",
       "        1.71176506e-01,  1.62342587e-01,  1.66083882e-01,  1.78609325e-01,\n",
       "        1.85021784e-01,  1.52926198e-01,  1.37989065e-01,  1.43338848e-01,\n",
       "        1.59160448e-01,  1.55488406e-01,  1.45093048e-01,  1.20000517e-01,\n",
       "        1.20263831e-01,  1.01846423e-01,  1.13160168e-01,  1.23909027e-01,\n",
       "        1.02396926e-01,  7.94984065e-02,  8.01791033e-02,  6.97156489e-02,\n",
       "        7.67081638e-02,  7.58931690e-02,  9.23241857e-02,  8.65573725e-02,\n",
       "        8.12826499e-02,  9.73514897e-02,  8.35184869e-02,  7.86028462e-02,\n",
       "        6.12526884e-02,  6.13399461e-02,  6.11435795e-02,  6.41760058e-02,\n",
       "        6.67103646e-02,  5.69282125e-02,  5.12186334e-02,  5.52304069e-02,\n",
       "        4.15253017e-02,  3.71904309e-02,  2.33397334e-02,  1.05749879e-02,\n",
       "        3.76253796e-02,  3.28335115e-02,  3.10002189e-02,  3.83919234e-02,\n",
       "        3.73126797e-02, -9.79899971e-04,  1.40508274e-02,  1.45768694e-02,\n",
       "        2.19388981e-02,  2.69942166e-02,  2.61304482e-02,  2.20318684e-02,\n",
       "        2.06936272e-02,  2.43481575e-02,  3.12307653e-02,  3.38049612e-02,\n",
       "        3.37997431e-02,  2.56812739e-02,  2.76406402e-02,  2.78874080e-02,\n",
       "        3.73287560e-02,  3.18806599e-02,  3.05904672e-02,  5.51984377e-02,\n",
       "        5.46800114e-02,  5.70506106e-02,  7.19605616e-02,  7.45739910e-02,\n",
       "        7.42491757e-02,  6.89865122e-02,  6.32396354e-02,  6.57933804e-02,\n",
       "        6.92220341e-02,  6.53997298e-02,  6.62213285e-02,  6.66175827e-02,\n",
       "        6.82563040e-02,  6.90222027e-02,  6.85386660e-02,  7.39681128e-02,\n",
       "        7.55222388e-02,  7.46304792e-02,  7.74871999e-02,  7.36336433e-02,\n",
       "        7.51204279e-02,  7.96800642e-02,  7.83863285e-02,  7.43382289e-02,\n",
       "        7.07047970e-02,  7.18361367e-02,  8.67039679e-02,  9.01159653e-02,\n",
       "        9.21811128e-02,  9.77561897e-02,  1.02418577e-01,  1.07177321e-01,\n",
       "        1.03557251e-01,  1.07690900e-01,  1.24809376e-01,  1.14065975e-01,\n",
       "        1.07570589e-01,  1.04292345e-01,  1.08666821e-01,  1.09654554e-01,\n",
       "        1.11785608e-01,  1.13745786e-01,  1.22287046e-01,  1.24323686e-01,\n",
       "        1.24296527e-01,  1.29118822e-01,  1.36733364e-01,  1.33467336e-01,\n",
       "        1.35620871e-01,  1.32845513e-01,  1.32309878e-01,  1.33148326e-01,\n",
       "        1.32926978e-01,  1.42813741e-01,  1.43739603e-01,  1.43642331e-01,\n",
       "        1.53026411e-01,  1.52267998e-01,  1.46987846e-01,  1.46034854e-01,\n",
       "        1.45429031e-01,  1.36981023e-01,  1.60226657e-01,  1.55394402e-01,\n",
       "        1.61817643e-01,  1.55640453e-01,  1.40785473e-01,  1.41351775e-01,\n",
       "        1.37814818e-01,  1.27164721e-01,  1.02541173e-01,  1.09973121e-01,\n",
       "        1.13872853e-01,  1.11258423e-01,  1.08213798e-01,  9.68504189e-02,\n",
       "        1.04382886e-01,  9.48445887e-02,  8.56607186e-02,  8.65223584e-02,\n",
       "        8.61353403e-02,  8.22758567e-02,  8.42382241e-02,  7.37134099e-02,\n",
       "        7.30155935e-02,  8.89176491e-02,  9.25360155e-02,  1.01136553e-01,\n",
       "        1.11292811e-01,  1.16592128e-01,  1.23274210e-01,  1.23053272e-01,\n",
       "        1.20450361e-01,  1.17522433e-01,  1.22014834e-01,  1.31229223e-01,\n",
       "        1.30066251e-01,  1.33208845e-01,  1.33070540e-01,  1.32238311e-01,\n",
       "        1.24563633e-01,  1.36203313e-01,  1.34293231e-01,  1.30778548e-01,\n",
       "        1.40494328e-01,  1.42097237e-01,  1.44183740e-01,  1.45713977e-01,\n",
       "        1.34769472e-01,  1.37640718e-01,  1.43488381e-01,  1.37383234e-01,\n",
       "        1.42452961e-01,  1.47888101e-01,  1.45464722e-01,  1.42461729e-01,\n",
       "        1.46897681e-01,  1.41021280e-01,  1.52793669e-01,  1.55370922e-01,\n",
       "        1.54750418e-01,  1.51555039e-01,  1.53004475e-01,  1.56918004e-01,\n",
       "        1.56474893e-01,  1.64784069e-01,  1.54098814e-01,  1.43823227e-01,\n",
       "        1.19522439e-01,  1.29381757e-01,  1.32590114e-01,  1.43311948e-01,\n",
       "        1.37178638e-01,  1.35808599e-01,  1.55919961e-01,  1.41231669e-01,\n",
       "        1.37737803e-01,  1.52075585e-01,  1.60489573e-01,  1.57652057e-01,\n",
       "        1.62737357e-01,  1.62336999e-01,  1.42436629e-01,  1.51193706e-01,\n",
       "        1.43037629e-01,  1.47081065e-01,  1.56483324e-01,  1.54510183e-01,\n",
       "        1.47832634e-01,  1.59788147e-01,  1.65557047e-01,  1.64166965e-01,\n",
       "        1.69405019e-01,  1.74770245e-01,  1.90085896e-01,  1.86460378e-01,\n",
       "        1.79234185e-01,  1.82364042e-01,  1.82682914e-01,  1.87820072e-01,\n",
       "        1.82303547e-01,  1.74385828e-01,  1.80342350e-01,  1.78177855e-01,\n",
       "        1.81992862e-01,  1.81395052e-01,  1.79981843e-01,  1.90704744e-01,\n",
       "        1.92722532e-01,  1.78315128e-01,  1.84464992e-01,  1.97836334e-01,\n",
       "        1.97952961e-01,  1.91790319e-01,  1.96590173e-01,  2.03918553e-01,\n",
       "        2.19827627e-01,  2.18113249e-01,  2.15417427e-01,  2.15767893e-01,\n",
       "        2.17446440e-01,  2.18052233e-01,  2.29491864e-01,  2.28679515e-01,\n",
       "        2.36283155e-01,  2.35336714e-01,  2.42797152e-01,  2.49953932e-01,\n",
       "        2.34261335e-01,  2.36319008e-01,  2.51252015e-01,  2.63656468e-01,\n",
       "        2.66711445e-01,  2.68162329e-01,  2.68934855e-01,  2.74246703e-01,\n",
       "        2.73438013e-01,  2.78121794e-01,  2.79436651e-01,  2.86514649e-01,\n",
       "        2.80242352e-01,  2.86732251e-01,  2.90596726e-01,  2.89468957e-01,\n",
       "        2.82146544e-01,  2.79534405e-01,  2.78077222e-01,  2.89271483e-01,\n",
       "        2.83407133e-01,  2.94341934e-01,  2.92663449e-01,  2.82358353e-01,\n",
       "        2.71786509e-01,  2.78712497e-01,  2.88212251e-01,  3.00091116e-01,\n",
       "        2.89027691e-01,  2.93195126e-01,  2.99748966e-01,  3.00218367e-01,\n",
       "        3.09255105e-01,  3.20964044e-01,  3.21530131e-01,  3.19632556e-01,\n",
       "        3.19946836e-01,  3.18854675e-01,  3.32090029e-01,  3.30778754e-01,\n",
       "        3.43146689e-01,  3.43570093e-01,  3.46996871e-01,  3.51788617e-01,\n",
       "        3.69749778e-01,  3.61959156e-01,  3.67944421e-01,  3.62287241e-01,\n",
       "        3.74531689e-01,  3.90900443e-01,  3.90975454e-01,  4.06445698e-01,\n",
       "        3.98267126e-01,  3.92183089e-01,  4.02346220e-01,  4.10864193e-01,\n",
       "        4.05793086e-01,  4.10389990e-01,  4.11247361e-01,  4.09559592e-01,\n",
       "        3.87435162e-01,  4.08620088e-01,  4.25291036e-01,  4.23313443e-01,\n",
       "        3.87633356e-01,  3.86651214e-01,  4.12648697e-01,  4.18594734e-01,\n",
       "        4.23861988e-01,  4.13550328e-01,  4.17954133e-01,  4.13330309e-01,\n",
       "        4.26782003e-01,  4.23780944e-01,  4.29607917e-01,  4.10691030e-01,\n",
       "        4.20492165e-01,  4.12308087e-01,  3.97175381e-01,  3.62572007e-01,\n",
       "        3.42037848e-01,  3.53291173e-01,  3.02426614e-01,  3.01558761e-01,\n",
       "        3.69485480e-01,  3.43657949e-01,  3.73420956e-01,  3.48905699e-01,\n",
       "        3.37525840e-01,  2.91941674e-01,  3.35812891e-01,  3.05685966e-01,\n",
       "        2.47306874e-01,  3.17949821e-01,  2.27916750e-01,  2.54113338e-01,\n",
       "        2.48836464e-01,  2.33205676e-01,  2.00651201e-01,  2.00071376e-01,\n",
       "        2.38067102e-01,  2.43653197e-01,  2.68929816e-01,  2.50083970e-01,\n",
       "        2.62174082e-01,  2.56861068e-01,  2.31686532e-01,  2.32228665e-01,\n",
       "        2.34787018e-01,  2.84831957e-01,  2.69503290e-01,  2.80904114e-01,\n",
       "        2.93759482e-01,  3.12629598e-01,  3.29789577e-01,  3.35916280e-01,\n",
       "        3.36571429e-01,  3.25884979e-01,  3.17788709e-01,  2.93419953e-01,\n",
       "        3.17275037e-01,  3.05122582e-01,  3.30235465e-01,  3.27616753e-01,\n",
       "        3.15891814e-01,  3.40542984e-01,  3.52768935e-01,  3.43758105e-01,\n",
       "        3.53709406e-01,  3.63065142e-01,  3.65947494e-01,  3.75561996e-01,\n",
       "        3.91122580e-01,  4.01890052e-01,  3.95209673e-01,  3.80727500e-01,\n",
       "        3.88494339e-01,  3.84657379e-01,  4.02840990e-01,  3.99287536e-01,\n",
       "        4.11647237e-01,  4.07586258e-01,  4.10303111e-01,  4.04768645e-01,\n",
       "        4.11359048e-01,  4.12812538e-01,  4.07849913e-01,  4.16726740e-01,\n",
       "        4.23093522e-01,  4.24939787e-01,  4.18148007e-01,  4.41936256e-01,\n",
       "        4.44196156e-01,  4.68293031e-01,  4.88611402e-01,  4.49536130e-01,\n",
       "        4.58623168e-01,  4.69119702e-01,  4.86051973e-01,  4.86972138e-01,\n",
       "        4.87587359e-01,  4.81663163e-01,  5.06316484e-01,  5.20166115e-01,\n",
       "        5.04398872e-01,  5.20812139e-01,  4.94064162e-01,  5.10936892e-01,\n",
       "        5.15819583e-01,  5.15225920e-01,  5.18429193e-01,  5.42666116e-01,\n",
       "        5.33127004e-01,  5.56028661e-01,  5.57370270e-01,  5.60000608e-01,\n",
       "        5.63361138e-01,  5.72435191e-01,  5.74778812e-01,  5.66549727e-01,\n",
       "        5.65347883e-01,  5.86818409e-01,  5.70820936e-01,  5.72871143e-01,\n",
       "        5.30904446e-01,  5.31728459e-01,  5.55180956e-01,  5.36379835e-01,\n",
       "        5.51395372e-01,  5.65652769e-01,  6.60728015e-01,  6.81076070e-01,\n",
       "        6.84858384e-01,  6.92981537e-01,  7.32563419e-01,  6.98430543e-01,\n",
       "        7.18929196e-01,  6.83356400e-01,  7.22363625e-01,  7.41069977e-01,\n",
       "        7.33211104e-01,  7.32042831e-01,  7.48099794e-01,  7.45988896e-01,\n",
       "        7.70889154e-01,  8.29010634e-01,  8.41503018e-01,  8.30620560e-01,\n",
       "        8.49431804e-01,  8.33731862e-01,  8.30071708e-01,  8.68831059e-01,\n",
       "        9.14269159e-01,  8.92340192e-01,  7.89754637e-01,  7.92459616e-01,\n",
       "        7.17900415e-01,  7.64624476e-01,  7.27391077e-01,  7.07920368e-01,\n",
       "        7.44081737e-01,  7.47975435e-01,  7.00399026e-01,  7.02437464e-01,\n",
       "        6.68209836e-01,  6.95932748e-01,  7.04783246e-01,  6.55536195e-01,\n",
       "        6.79089867e-01,  7.14336146e-01,  7.36223757e-01,  7.28196108e-01,\n",
       "        7.38272121e-01,  7.49950156e-01,  7.21760149e-01,  7.53997637e-01,\n",
       "        7.19312279e-01,  7.42041864e-01,  7.42516808e-01,  7.53130320e-01,\n",
       "        8.28722016e-01,  7.92647268e-01,  7.94571102e-01,  7.97418041e-01,\n",
       "        7.77818496e-01,  7.50454381e-01,  7.62420247e-01,  7.51286273e-01,\n",
       "        7.56522363e-01,  7.38523213e-01,  7.32941474e-01,  7.55484634e-01,\n",
       "        7.04949755e-01,  7.41629227e-01,  6.80273496e-01,  6.83560622e-01,\n",
       "        6.97374303e-01,  7.36597568e-01,  7.76584244e-01,  7.76206137e-01,\n",
       "        7.44000721e-01,  7.44158307e-01,  7.83878476e-01,  7.74786243e-01,\n",
       "        7.75920387e-01,  7.91518110e-01,  7.80367553e-01,  7.61027028e-01,\n",
       "        7.70405719e-01,  7.62650977e-01,  7.31098473e-01,  7.42943919e-01,\n",
       "        7.46097659e-01,  7.53205653e-01,  7.77782816e-01,  8.14120703e-01,\n",
       "        8.17700087e-01,  8.11399620e-01,  8.04182665e-01,  8.15399783e-01,\n",
       "        8.29696493e-01,  8.03715566e-01,  8.13989074e-01,  8.05298270e-01,\n",
       "        8.00582302e-01,  8.58785559e-01,  8.53788391e-01,  8.67218705e-01,\n",
       "        8.50895380e-01,  8.57441325e-01,  8.97777127e-01,  8.91354005e-01,\n",
       "        8.93804957e-01,  9.45094049e-01,  9.23358536e-01,  9.09371246e-01,\n",
       "        9.01021353e-01,  8.71161953e-01,  8.94983197e-01,  8.45414979e-01,\n",
       "        8.81776428e-01,  9.00425048e-01,  8.68326555e-01,  8.65687463e-01,\n",
       "        8.90973519e-01,  8.67346813e-01,  8.51369434e-01,  8.56059076e-01,\n",
       "        8.99117040e-01,  9.46403884e-01,  9.57730977e-01,  9.92403756e-01,\n",
       "        1.00354935e+00,  9.89342648e-01,  9.37144646e-01,  8.94619288e-01,\n",
       "        9.21653163e-01,  9.26534357e-01,  9.10651027e-01,  9.47603180e-01,\n",
       "        9.42856285e-01,  9.39489543e-01,  9.33738774e-01,  9.31656204e-01,\n",
       "        9.28226061e-01,  9.31107429e-01,  9.06070877e-01,  8.88097457e-01,\n",
       "        8.77023459e-01,  8.76480924e-01,  8.37329605e-01,  8.38362009e-01,\n",
       "        8.33823835e-01,  7.89506486e-01,  7.96670670e-01,  8.61651965e-01,\n",
       "        8.31821986e-01,  8.02365158e-01,  7.87233527e-01,  7.97507116e-01,\n",
       "        7.49577345e-01,  7.96745280e-01,  7.82564603e-01,  8.04111832e-01,\n",
       "        7.96836093e-01,  8.15405904e-01,  8.31539167e-01,  8.34835539e-01,\n",
       "        7.89711151e-01,  7.83505956e-01,  8.18388763e-01,  8.09260233e-01,\n",
       "        7.82242914e-01])"
      ]
     },
     "execution_count": 81,
     "metadata": {},
     "output_type": "execute_result"
    }
   ],
   "source": [
    "lin_req_prediction=lin_req.predict(changeshape(test_x))\n",
    "lin_req_prediction"
   ]
  },
  {
   "cell_type": "code",
   "execution_count": 82,
   "metadata": {},
   "outputs": [
    {
     "data": {
      "image/png": "[encoded data removed]",
      "text/plain": [
       "<Figure size 432x288 with 1 Axes>"
      ]
     },
     "metadata": {
      "needs_background": "light"
     },
     "output_type": "display_data"
    }
   ],
   "source": [
    "plot_predictions(test_y, lin_req_prediction)"
   ]
  }
 ],
 "metadata": {
  "kernelspec": {
   "display_name": "Python 3",
   "language": "python",
   "name": "python3"
  },
  "language_info": {
   "codemirror_mode": {
    "name": "ipython",
    "version": 3
   },
   "file_extension": ".py",
   "mimetype": "text/x-python",
   "name": "python",
   "nbconvert_exporter": "python",
   "pygments_lexer": "ipython3",
   "version": "3.7.6"
  }
 },
 "nbformat": 4,
 "nbformat_minor": 4
}
